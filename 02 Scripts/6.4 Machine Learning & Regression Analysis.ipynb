{
 "cells": [
  {
   "cell_type": "markdown",
   "id": "23932a62",
   "metadata": {},
   "source": [
    "# Machine Learning & Regression Analysis"
   ]
  },
  {
   "cell_type": "markdown",
   "id": "88b83975",
   "metadata": {},
   "source": [
    "### This script contains the following points:\n",
    "1. Importing libraries and modules\n",
    "2. Importing data\n",
    "3. Cleaning data\n",
    "4. Exploring data via scatterplot\n",
    "5. Forming a hypothesis\n",
    "6. Reshaping the X and y variables into NumPy arrays\n",
    "7. Splitting the data into training and test sets\n",
    "8. Run a linear regression on the data\n",
    "9. Create a scatterplot that shows regression on the test set\n",
    "10. Interpretation of how regression line fits data\n",
    "11. Check model performance statistics\n",
    "12. Compare the predicted y values with the actual y values\n",
    "13. Thoughts on how well model performed on test set\n"
   ]
  },
  {
   "cell_type": "markdown",
   "id": "2af44bb6",
   "metadata": {},
   "source": [
    "### 1. Importing libraries and modules"
   ]
  },
  {
   "cell_type": "code",
   "execution_count": 2,
   "id": "24301612",
   "metadata": {},
   "outputs": [],
   "source": [
    "import pandas as pd\n",
    "import numpy as np\n",
    "import seaborn as sns\n",
    "import matplotlib\n",
    "import matplotlib.pyplot as plt\n",
    "import os\n",
    "import sklearn\n",
    "from sklearn.model_selection import train_test_split \n",
    "from sklearn.linear_model import LinearRegression\n",
    "from sklearn.metrics import mean_squared_error, r2_score"
   ]
  },
  {
   "cell_type": "code",
   "execution_count": 3,
   "id": "c03ef6f1",
   "metadata": {},
   "outputs": [],
   "source": [
    "%matplotlib inline"
   ]
  },
  {
   "cell_type": "markdown",
   "id": "79f5088b",
   "metadata": {},
   "source": [
    "### 2. Importing data"
   ]
  },
  {
   "cell_type": "code",
   "execution_count": 4,
   "id": "38e5d6bc",
   "metadata": {},
   "outputs": [],
   "source": [
    "path = r'C:\\Users\\keely\\Documents\\Courses\\CareerFoundry\\Immersion\\Achievement 6 - Advanced Analytics_Dashboard\\2019-2021 CDC Natality'"
   ]
  },
  {
   "cell_type": "code",
   "execution_count": 5,
   "id": "c2ceacd0",
   "metadata": {},
   "outputs": [],
   "source": [
    "# Import latest natality dataframe.\n",
    "\n",
    "df = pd.read_pickle(os.path.join(path, '02 Data', 'Prepared Data', 'df_flags.pkl'))"
   ]
  },
  {
   "cell_type": "code",
   "execution_count": 6,
   "id": "7642226c",
   "metadata": {},
   "outputs": [
    {
     "data": {
      "text/html": [
       "<div>\n",
       "<style scoped>\n",
       "    .dataframe tbody tr th:only-of-type {\n",
       "        vertical-align: middle;\n",
       "    }\n",
       "\n",
       "    .dataframe tbody tr th {\n",
       "        vertical-align: top;\n",
       "    }\n",
       "\n",
       "    .dataframe thead th {\n",
       "        text-align: right;\n",
       "    }\n",
       "</style>\n",
       "<table border=\"1\" class=\"dataframe\">\n",
       "  <thead>\n",
       "    <tr style=\"text-align: right;\">\n",
       "      <th></th>\n",
       "      <th>index</th>\n",
       "      <th>state</th>\n",
       "      <th>year</th>\n",
       "      <th>month</th>\n",
       "      <th>month_code</th>\n",
       "      <th>mother_ed</th>\n",
       "      <th>prenatal_start</th>\n",
       "      <th>births</th>\n",
       "      <th>birth_wt_avg</th>\n",
       "      <th>mother_age_avg</th>\n",
       "      <th>gest_age_avg</th>\n",
       "      <th>date</th>\n",
       "      <th>season</th>\n",
       "      <th>region</th>\n",
       "      <th>birth_wt_alert</th>\n",
       "      <th>gest_age_alert</th>\n",
       "      <th>mother_age_range</th>\n",
       "      <th>birth_wt_cat</th>\n",
       "      <th>gest_age_cat</th>\n",
       "    </tr>\n",
       "  </thead>\n",
       "  <tbody>\n",
       "    <tr>\n",
       "      <th>0</th>\n",
       "      <td>0</td>\n",
       "      <td>Alabama</td>\n",
       "      <td>2019</td>\n",
       "      <td>January</td>\n",
       "      <td>1</td>\n",
       "      <td>high school GED or less</td>\n",
       "      <td>10</td>\n",
       "      <td>34</td>\n",
       "      <td>3223.149902</td>\n",
       "      <td>27.440001</td>\n",
       "      <td>38.820000</td>\n",
       "      <td>2019-01-01</td>\n",
       "      <td>Winter</td>\n",
       "      <td>South</td>\n",
       "      <td>NBW</td>\n",
       "      <td>not preterm</td>\n",
       "      <td>26-28</td>\n",
       "      <td>average</td>\n",
       "      <td>old</td>\n",
       "    </tr>\n",
       "    <tr>\n",
       "      <th>1</th>\n",
       "      <td>1</td>\n",
       "      <td>Alabama</td>\n",
       "      <td>2019</td>\n",
       "      <td>January</td>\n",
       "      <td>1</td>\n",
       "      <td>high school GED or less</td>\n",
       "      <td>2</td>\n",
       "      <td>30</td>\n",
       "      <td>3482.770020</td>\n",
       "      <td>29.930000</td>\n",
       "      <td>39.070000</td>\n",
       "      <td>2019-01-01</td>\n",
       "      <td>Winter</td>\n",
       "      <td>South</td>\n",
       "      <td>NBW</td>\n",
       "      <td>not preterm</td>\n",
       "      <td>28-30</td>\n",
       "      <td>highest</td>\n",
       "      <td>oldest</td>\n",
       "    </tr>\n",
       "    <tr>\n",
       "      <th>2</th>\n",
       "      <td>2</td>\n",
       "      <td>Alabama</td>\n",
       "      <td>2019</td>\n",
       "      <td>January</td>\n",
       "      <td>1</td>\n",
       "      <td>high school GED or less</td>\n",
       "      <td>3</td>\n",
       "      <td>25</td>\n",
       "      <td>3251.959961</td>\n",
       "      <td>30.760000</td>\n",
       "      <td>38.639999</td>\n",
       "      <td>2019-01-01</td>\n",
       "      <td>Winter</td>\n",
       "      <td>South</td>\n",
       "      <td>NBW</td>\n",
       "      <td>not preterm</td>\n",
       "      <td>30-32</td>\n",
       "      <td>average</td>\n",
       "      <td>old</td>\n",
       "    </tr>\n",
       "    <tr>\n",
       "      <th>3</th>\n",
       "      <td>3</td>\n",
       "      <td>Alabama</td>\n",
       "      <td>2019</td>\n",
       "      <td>January</td>\n",
       "      <td>1</td>\n",
       "      <td>high school GED or less</td>\n",
       "      <td>4</td>\n",
       "      <td>25</td>\n",
       "      <td>3120.399902</td>\n",
       "      <td>28.639999</td>\n",
       "      <td>38.119999</td>\n",
       "      <td>2019-01-01</td>\n",
       "      <td>Winter</td>\n",
       "      <td>South</td>\n",
       "      <td>NBW</td>\n",
       "      <td>not preterm</td>\n",
       "      <td>28-30</td>\n",
       "      <td>low</td>\n",
       "      <td>young</td>\n",
       "    </tr>\n",
       "    <tr>\n",
       "      <th>4</th>\n",
       "      <td>4</td>\n",
       "      <td>Alabama</td>\n",
       "      <td>2019</td>\n",
       "      <td>January</td>\n",
       "      <td>1</td>\n",
       "      <td>high school GED or less</td>\n",
       "      <td>5</td>\n",
       "      <td>12</td>\n",
       "      <td>2938.080078</td>\n",
       "      <td>27.920000</td>\n",
       "      <td>37.500000</td>\n",
       "      <td>2019-01-01</td>\n",
       "      <td>Winter</td>\n",
       "      <td>South</td>\n",
       "      <td>NBW</td>\n",
       "      <td>not preterm</td>\n",
       "      <td>26-28</td>\n",
       "      <td>lowest</td>\n",
       "      <td>youngest</td>\n",
       "    </tr>\n",
       "  </tbody>\n",
       "</table>\n",
       "</div>"
      ],
      "text/plain": [
       "   index    state  year    month  month_code                mother_ed  \\\n",
       "0      0  Alabama  2019  January           1  high school GED or less   \n",
       "1      1  Alabama  2019  January           1  high school GED or less   \n",
       "2      2  Alabama  2019  January           1  high school GED or less   \n",
       "3      3  Alabama  2019  January           1  high school GED or less   \n",
       "4      4  Alabama  2019  January           1  high school GED or less   \n",
       "\n",
       "   prenatal_start  births  birth_wt_avg  mother_age_avg  gest_age_avg  \\\n",
       "0              10      34   3223.149902       27.440001     38.820000   \n",
       "1               2      30   3482.770020       29.930000     39.070000   \n",
       "2               3      25   3251.959961       30.760000     38.639999   \n",
       "3               4      25   3120.399902       28.639999     38.119999   \n",
       "4               5      12   2938.080078       27.920000     37.500000   \n",
       "\n",
       "        date  season region birth_wt_alert gest_age_alert mother_age_range  \\\n",
       "0 2019-01-01  Winter  South            NBW    not preterm            26-28   \n",
       "1 2019-01-01  Winter  South            NBW    not preterm            28-30   \n",
       "2 2019-01-01  Winter  South            NBW    not preterm            30-32   \n",
       "3 2019-01-01  Winter  South            NBW    not preterm            28-30   \n",
       "4 2019-01-01  Winter  South            NBW    not preterm            26-28   \n",
       "\n",
       "  birth_wt_cat gest_age_cat  \n",
       "0      average          old  \n",
       "1      highest       oldest  \n",
       "2      average          old  \n",
       "3          low        young  \n",
       "4       lowest     youngest  "
      ]
     },
     "execution_count": 6,
     "metadata": {},
     "output_type": "execute_result"
    }
   ],
   "source": [
    "df.head()"
   ]
  },
  {
   "cell_type": "code",
   "execution_count": 7,
   "id": "99dda5a8",
   "metadata": {},
   "outputs": [
    {
     "data": {
      "text/plain": [
       "Index(['index', 'state', 'year', 'month', 'month_code', 'mother_ed',\n",
       "       'prenatal_start', 'births', 'birth_wt_avg', 'mother_age_avg',\n",
       "       'gest_age_avg', 'date', 'season', 'region', 'birth_wt_alert',\n",
       "       'gest_age_alert', 'mother_age_range', 'birth_wt_cat', 'gest_age_cat'],\n",
       "      dtype='object')"
      ]
     },
     "execution_count": 7,
     "metadata": {},
     "output_type": "execute_result"
    }
   ],
   "source": [
    "df.columns"
   ]
  },
  {
   "cell_type": "code",
   "execution_count": 8,
   "id": "90113eae",
   "metadata": {},
   "outputs": [
    {
     "data": {
      "text/plain": [
       "(86437, 19)"
      ]
     },
     "execution_count": 8,
     "metadata": {},
     "output_type": "execute_result"
    }
   ],
   "source": [
    "df.shape"
   ]
  },
  {
   "cell_type": "markdown",
   "id": "6a3d92de",
   "metadata": {},
   "source": [
    "### 3. Cleaning data"
   ]
  },
  {
   "cell_type": "code",
   "execution_count": 9,
   "id": "87a79a3a",
   "metadata": {},
   "outputs": [
    {
     "data": {
      "text/plain": [
       "index               0\n",
       "state               0\n",
       "year                0\n",
       "month               0\n",
       "month_code          0\n",
       "mother_ed           0\n",
       "prenatal_start      0\n",
       "births              0\n",
       "birth_wt_avg        0\n",
       "mother_age_avg      0\n",
       "gest_age_avg        0\n",
       "date                0\n",
       "season              0\n",
       "region              0\n",
       "birth_wt_alert      0\n",
       "gest_age_alert      0\n",
       "mother_age_range    0\n",
       "birth_wt_cat        0\n",
       "gest_age_cat        0\n",
       "dtype: int64"
      ]
     },
     "execution_count": 9,
     "metadata": {},
     "output_type": "execute_result"
    }
   ],
   "source": [
    "# Checking for missing values:\n",
    "\n",
    "df.isnull().sum()\n",
    "\n",
    "# No missing values."
   ]
  },
  {
   "cell_type": "code",
   "execution_count": 10,
   "id": "cad3c774",
   "metadata": {},
   "outputs": [
    {
     "data": {
      "text/plain": [
       "(86437,)"
      ]
     },
     "execution_count": 10,
     "metadata": {},
     "output_type": "execute_result"
    }
   ],
   "source": [
    "# Duplicates check:\n",
    "\n",
    "dups = df.duplicated()\n",
    "dups.shape"
   ]
  },
  {
   "cell_type": "code",
   "execution_count": 11,
   "id": "85b2ca4e",
   "metadata": {},
   "outputs": [
    {
     "data": {
      "text/plain": [
       "<seaborn.axisgrid.FacetGrid at 0x1b4db6c0340>"
      ]
     },
     "execution_count": 11,
     "metadata": {},
     "output_type": "execute_result"
    },
    {
     "data": {
      "image/png": "[encoded data removed]",
      "text/plain": [
       "<Figure size 500x500 with 1 Axes>"
      ]
     },
     "metadata": {},
     "output_type": "display_data"
    }
   ],
   "source": [
    "sns.displot(df['mother_age_avg'], bins=10) # Shows extreme values\n"
   ]
  },
  {
   "cell_type": "code",
   "execution_count": 12,
   "id": "d2e4c65d",
   "metadata": {},
   "outputs": [],
   "source": [
    "df_mom = df[df['mother_age_avg']>37]\n"
   ]
  },
  {
   "cell_type": "code",
   "execution_count": 13,
   "id": "4e2274fb",
   "metadata": {},
   "outputs": [
    {
     "data": {
      "text/plain": [
       "37.180000    3\n",
       "37.099998    3\n",
       "37.400002    2\n",
       "37.860001    1\n",
       "37.070000    1\n",
       "37.080002    1\n",
       "37.349998    1\n",
       "37.540001    1\n",
       "38.119999    1\n",
       "37.200001    1\n",
       "37.549999    1\n",
       "37.330002    1\n",
       "37.130001    1\n",
       "37.250000    1\n",
       "37.820000    1\n",
       "38.700001    1\n",
       "37.580002    1\n",
       "37.700001    1\n",
       "37.900002    1\n",
       "37.380001    1\n",
       "37.910000    1\n",
       "37.270000    1\n",
       "38.130001    1\n",
       "37.299999    1\n",
       "Name: mother_age_avg, dtype: int64"
      ]
     },
     "execution_count": 13,
     "metadata": {},
     "output_type": "execute_result"
    }
   ],
   "source": [
    "df_mom[\"mother_age_avg\"].value_counts(dropna = False)"
   ]
  },
  {
   "cell_type": "code",
   "execution_count": 14,
   "id": "33b22a00",
   "metadata": {},
   "outputs": [
    {
     "data": {
      "text/html": [
       "<div>\n",
       "<style scoped>\n",
       "    .dataframe tbody tr th:only-of-type {\n",
       "        vertical-align: middle;\n",
       "    }\n",
       "\n",
       "    .dataframe tbody tr th {\n",
       "        vertical-align: top;\n",
       "    }\n",
       "\n",
       "    .dataframe thead th {\n",
       "        text-align: right;\n",
       "    }\n",
       "</style>\n",
       "<table border=\"1\" class=\"dataframe\">\n",
       "  <thead>\n",
       "    <tr style=\"text-align: right;\">\n",
       "      <th></th>\n",
       "      <th>index</th>\n",
       "      <th>state</th>\n",
       "      <th>year</th>\n",
       "      <th>month</th>\n",
       "      <th>month_code</th>\n",
       "      <th>mother_ed</th>\n",
       "      <th>prenatal_start</th>\n",
       "      <th>births</th>\n",
       "      <th>birth_wt_avg</th>\n",
       "      <th>mother_age_avg</th>\n",
       "      <th>gest_age_avg</th>\n",
       "      <th>date</th>\n",
       "      <th>season</th>\n",
       "      <th>region</th>\n",
       "      <th>birth_wt_alert</th>\n",
       "      <th>gest_age_alert</th>\n",
       "      <th>mother_age_range</th>\n",
       "      <th>birth_wt_cat</th>\n",
       "      <th>gest_age_cat</th>\n",
       "    </tr>\n",
       "  </thead>\n",
       "  <tbody>\n",
       "    <tr>\n",
       "      <th>2410</th>\n",
       "      <td>2410</td>\n",
       "      <td>California</td>\n",
       "      <td>2019</td>\n",
       "      <td>March</td>\n",
       "      <td>3</td>\n",
       "      <td>doctorate or professional degree</td>\n",
       "      <td>2</td>\n",
       "      <td>14</td>\n",
       "      <td>3172.709961</td>\n",
       "      <td>37.860001</td>\n",
       "      <td>38.849998</td>\n",
       "      <td>2019-03-01</td>\n",
       "      <td>Spring</td>\n",
       "      <td>West</td>\n",
       "      <td>NBW</td>\n",
       "      <td>not preterm</td>\n",
       "      <td>&gt; 32</td>\n",
       "      <td>low</td>\n",
       "      <td>old</td>\n",
       "    </tr>\n",
       "    <tr>\n",
       "      <th>3770</th>\n",
       "      <td>3770</td>\n",
       "      <td>Colorado</td>\n",
       "      <td>2019</td>\n",
       "      <td>October</td>\n",
       "      <td>10</td>\n",
       "      <td>doctorate or professional degree</td>\n",
       "      <td>4</td>\n",
       "      <td>12</td>\n",
       "      <td>2924.750000</td>\n",
       "      <td>37.250000</td>\n",
       "      <td>37.750000</td>\n",
       "      <td>2019-10-01</td>\n",
       "      <td>Fall</td>\n",
       "      <td>West</td>\n",
       "      <td>NBW</td>\n",
       "      <td>not preterm</td>\n",
       "      <td>&gt; 32</td>\n",
       "      <td>lowest</td>\n",
       "      <td>youngest</td>\n",
       "    </tr>\n",
       "    <tr>\n",
       "      <th>3874</th>\n",
       "      <td>3874</td>\n",
       "      <td>Colorado</td>\n",
       "      <td>2019</td>\n",
       "      <td>December</td>\n",
       "      <td>12</td>\n",
       "      <td>master's degree</td>\n",
       "      <td>5</td>\n",
       "      <td>15</td>\n",
       "      <td>3162.530029</td>\n",
       "      <td>38.130001</td>\n",
       "      <td>37.799999</td>\n",
       "      <td>2019-12-01</td>\n",
       "      <td>Winter</td>\n",
       "      <td>West</td>\n",
       "      <td>NBW</td>\n",
       "      <td>not preterm</td>\n",
       "      <td>&gt; 32</td>\n",
       "      <td>low</td>\n",
       "      <td>youngest</td>\n",
       "    </tr>\n",
       "    <tr>\n",
       "      <th>6803</th>\n",
       "      <td>6803</td>\n",
       "      <td>Hawaii</td>\n",
       "      <td>2019</td>\n",
       "      <td>May</td>\n",
       "      <td>5</td>\n",
       "      <td>master's degree</td>\n",
       "      <td>4</td>\n",
       "      <td>11</td>\n",
       "      <td>2938.000000</td>\n",
       "      <td>37.270000</td>\n",
       "      <td>38.360001</td>\n",
       "      <td>2019-05-01</td>\n",
       "      <td>Spring</td>\n",
       "      <td>West</td>\n",
       "      <td>NBW</td>\n",
       "      <td>not preterm</td>\n",
       "      <td>&gt; 32</td>\n",
       "      <td>lowest</td>\n",
       "      <td>young</td>\n",
       "    </tr>\n",
       "    <tr>\n",
       "      <th>8283</th>\n",
       "      <td>8283</td>\n",
       "      <td>Indiana</td>\n",
       "      <td>2019</td>\n",
       "      <td>January</td>\n",
       "      <td>1</td>\n",
       "      <td>master's degree</td>\n",
       "      <td>5</td>\n",
       "      <td>11</td>\n",
       "      <td>3015.000000</td>\n",
       "      <td>37.180000</td>\n",
       "      <td>37.549999</td>\n",
       "      <td>2019-01-01</td>\n",
       "      <td>Winter</td>\n",
       "      <td>Midwest</td>\n",
       "      <td>NBW</td>\n",
       "      <td>not preterm</td>\n",
       "      <td>&gt; 32</td>\n",
       "      <td>lowest</td>\n",
       "      <td>youngest</td>\n",
       "    </tr>\n",
       "    <tr>\n",
       "      <th>12744</th>\n",
       "      <td>12744</td>\n",
       "      <td>Massachusetts</td>\n",
       "      <td>2019</td>\n",
       "      <td>December</td>\n",
       "      <td>12</td>\n",
       "      <td>doctorate or professional degree</td>\n",
       "      <td>1</td>\n",
       "      <td>11</td>\n",
       "      <td>3504.729980</td>\n",
       "      <td>37.910000</td>\n",
       "      <td>39.910000</td>\n",
       "      <td>2019-12-01</td>\n",
       "      <td>Winter</td>\n",
       "      <td>Northeast</td>\n",
       "      <td>NBW</td>\n",
       "      <td>not preterm</td>\n",
       "      <td>&gt; 32</td>\n",
       "      <td>highest</td>\n",
       "      <td>oldest</td>\n",
       "    </tr>\n",
       "    <tr>\n",
       "      <th>17178</th>\n",
       "      <td>17178</td>\n",
       "      <td>New Jersey</td>\n",
       "      <td>2019</td>\n",
       "      <td>June</td>\n",
       "      <td>6</td>\n",
       "      <td>master's degree</td>\n",
       "      <td>7</td>\n",
       "      <td>13</td>\n",
       "      <td>2964.620117</td>\n",
       "      <td>37.380001</td>\n",
       "      <td>37.919998</td>\n",
       "      <td>2019-06-01</td>\n",
       "      <td>Summer</td>\n",
       "      <td>Northeast</td>\n",
       "      <td>NBW</td>\n",
       "      <td>not preterm</td>\n",
       "      <td>&gt; 32</td>\n",
       "      <td>lowest</td>\n",
       "      <td>youngest</td>\n",
       "    </tr>\n",
       "    <tr>\n",
       "      <th>27681</th>\n",
       "      <td>27681</td>\n",
       "      <td>Washington</td>\n",
       "      <td>2019</td>\n",
       "      <td>May</td>\n",
       "      <td>5</td>\n",
       "      <td>doctorate or professional degree</td>\n",
       "      <td>4</td>\n",
       "      <td>10</td>\n",
       "      <td>2836.500000</td>\n",
       "      <td>37.900002</td>\n",
       "      <td>37.099998</td>\n",
       "      <td>2019-05-01</td>\n",
       "      <td>Spring</td>\n",
       "      <td>West</td>\n",
       "      <td>NBW</td>\n",
       "      <td>not preterm</td>\n",
       "      <td>&gt; 32</td>\n",
       "      <td>lowest</td>\n",
       "      <td>youngest</td>\n",
       "    </tr>\n",
       "    <tr>\n",
       "      <th>31844</th>\n",
       "      <td>2553</td>\n",
       "      <td>California</td>\n",
       "      <td>2020</td>\n",
       "      <td>May</td>\n",
       "      <td>5</td>\n",
       "      <td>doctorate or professional degree</td>\n",
       "      <td>3</td>\n",
       "      <td>10</td>\n",
       "      <td>3032.899902</td>\n",
       "      <td>37.700001</td>\n",
       "      <td>37.900002</td>\n",
       "      <td>2020-05-01</td>\n",
       "      <td>Spring</td>\n",
       "      <td>West</td>\n",
       "      <td>NBW</td>\n",
       "      <td>not preterm</td>\n",
       "      <td>&gt; 32</td>\n",
       "      <td>lowest</td>\n",
       "      <td>youngest</td>\n",
       "    </tr>\n",
       "    <tr>\n",
       "      <th>32180</th>\n",
       "      <td>2889</td>\n",
       "      <td>California</td>\n",
       "      <td>2020</td>\n",
       "      <td>September</td>\n",
       "      <td>9</td>\n",
       "      <td>doctorate or professional degree</td>\n",
       "      <td>2</td>\n",
       "      <td>12</td>\n",
       "      <td>2919.580078</td>\n",
       "      <td>37.580002</td>\n",
       "      <td>37.169998</td>\n",
       "      <td>2020-09-01</td>\n",
       "      <td>Fall</td>\n",
       "      <td>West</td>\n",
       "      <td>NBW</td>\n",
       "      <td>not preterm</td>\n",
       "      <td>&gt; 32</td>\n",
       "      <td>lowest</td>\n",
       "      <td>youngest</td>\n",
       "    </tr>\n",
       "  </tbody>\n",
       "</table>\n",
       "</div>"
      ],
      "text/plain": [
       "       index          state  year      month  month_code  \\\n",
       "2410    2410     California  2019      March           3   \n",
       "3770    3770       Colorado  2019    October          10   \n",
       "3874    3874       Colorado  2019   December          12   \n",
       "6803    6803         Hawaii  2019        May           5   \n",
       "8283    8283        Indiana  2019    January           1   \n",
       "12744  12744  Massachusetts  2019   December          12   \n",
       "17178  17178     New Jersey  2019       June           6   \n",
       "27681  27681     Washington  2019        May           5   \n",
       "31844   2553     California  2020        May           5   \n",
       "32180   2889     California  2020  September           9   \n",
       "\n",
       "                              mother_ed  prenatal_start  births  birth_wt_avg  \\\n",
       "2410   doctorate or professional degree               2      14   3172.709961   \n",
       "3770   doctorate or professional degree               4      12   2924.750000   \n",
       "3874                    master's degree               5      15   3162.530029   \n",
       "6803                    master's degree               4      11   2938.000000   \n",
       "8283                    master's degree               5      11   3015.000000   \n",
       "12744  doctorate or professional degree               1      11   3504.729980   \n",
       "17178                   master's degree               7      13   2964.620117   \n",
       "27681  doctorate or professional degree               4      10   2836.500000   \n",
       "31844  doctorate or professional degree               3      10   3032.899902   \n",
       "32180  doctorate or professional degree               2      12   2919.580078   \n",
       "\n",
       "       mother_age_avg  gest_age_avg       date  season     region  \\\n",
       "2410        37.860001     38.849998 2019-03-01  Spring       West   \n",
       "3770        37.250000     37.750000 2019-10-01    Fall       West   \n",
       "3874        38.130001     37.799999 2019-12-01  Winter       West   \n",
       "6803        37.270000     38.360001 2019-05-01  Spring       West   \n",
       "8283        37.180000     37.549999 2019-01-01  Winter    Midwest   \n",
       "12744       37.910000     39.910000 2019-12-01  Winter  Northeast   \n",
       "17178       37.380001     37.919998 2019-06-01  Summer  Northeast   \n",
       "27681       37.900002     37.099998 2019-05-01  Spring       West   \n",
       "31844       37.700001     37.900002 2020-05-01  Spring       West   \n",
       "32180       37.580002     37.169998 2020-09-01    Fall       West   \n",
       "\n",
       "      birth_wt_alert gest_age_alert mother_age_range birth_wt_cat gest_age_cat  \n",
       "2410             NBW    not preterm             > 32          low          old  \n",
       "3770             NBW    not preterm             > 32       lowest     youngest  \n",
       "3874             NBW    not preterm             > 32          low     youngest  \n",
       "6803             NBW    not preterm             > 32       lowest        young  \n",
       "8283             NBW    not preterm             > 32       lowest     youngest  \n",
       "12744            NBW    not preterm             > 32      highest       oldest  \n",
       "17178            NBW    not preterm             > 32       lowest     youngest  \n",
       "27681            NBW    not preterm             > 32       lowest     youngest  \n",
       "31844            NBW    not preterm             > 32       lowest     youngest  \n",
       "32180            NBW    not preterm             > 32       lowest     youngest  "
      ]
     },
     "execution_count": 14,
     "metadata": {},
     "output_type": "execute_result"
    }
   ],
   "source": [
    "df_mom.head(10)\n",
    "\n",
    "# 29 records where the average mother age is greater than 37 years of age seems resonable. All these women had\n",
    "# master's degrees or Ph.D./professional degrees."
   ]
  },
  {
   "cell_type": "code",
   "execution_count": 15,
   "id": "6a5bc509",
   "metadata": {},
   "outputs": [
    {
     "data": {
      "text/plain": [
       "29.00535011291504"
      ]
     },
     "execution_count": 15,
     "metadata": {},
     "output_type": "execute_result"
    }
   ],
   "source": [
    "df['mother_age_avg'].mean() # Check the mean"
   ]
  },
  {
   "cell_type": "code",
   "execution_count": 16,
   "id": "9f2522d8",
   "metadata": {},
   "outputs": [
    {
     "data": {
      "text/plain": [
       "28.899999618530273"
      ]
     },
     "execution_count": 16,
     "metadata": {},
     "output_type": "execute_result"
    }
   ],
   "source": [
    "df['mother_age_avg'].median() # Check the median"
   ]
  },
  {
   "cell_type": "code",
   "execution_count": 17,
   "id": "c7da7c03",
   "metadata": {},
   "outputs": [
    {
     "data": {
      "text/plain": [
       "38.70000076293945"
      ]
     },
     "execution_count": 17,
     "metadata": {},
     "output_type": "execute_result"
    }
   ],
   "source": [
    "df['mother_age_avg'].max() # Check the max"
   ]
  },
  {
   "cell_type": "code",
   "execution_count": 18,
   "id": "29996975",
   "metadata": {},
   "outputs": [
    {
     "data": {
      "text/plain": [
       "<AxesSubplot:xlabel='birth_wt_avg', ylabel='Count'>"
      ]
     },
     "execution_count": 18,
     "metadata": {},
     "output_type": "execute_result"
    },
    {
     "data": {
      "image/png": "[encoded data removed]",
      "text/plain": [
       "<Figure size 640x480 with 1 Axes>"
      ]
     },
     "metadata": {},
     "output_type": "display_data"
    }
   ],
   "source": [
    "sns.histplot(df['birth_wt_avg'], bins=50) # Shows extreme values for birth weight averages."
   ]
  },
  {
   "cell_type": "code",
   "execution_count": 19,
   "id": "eccda57d",
   "metadata": {},
   "outputs": [
    {
     "data": {
      "text/html": [
       "<div>\n",
       "<style scoped>\n",
       "    .dataframe tbody tr th:only-of-type {\n",
       "        vertical-align: middle;\n",
       "    }\n",
       "\n",
       "    .dataframe tbody tr th {\n",
       "        vertical-align: top;\n",
       "    }\n",
       "\n",
       "    .dataframe thead th {\n",
       "        text-align: right;\n",
       "    }\n",
       "</style>\n",
       "<table border=\"1\" class=\"dataframe\">\n",
       "  <thead>\n",
       "    <tr style=\"text-align: right;\">\n",
       "      <th></th>\n",
       "      <th>index</th>\n",
       "      <th>state</th>\n",
       "      <th>year</th>\n",
       "      <th>month</th>\n",
       "      <th>month_code</th>\n",
       "      <th>mother_ed</th>\n",
       "      <th>prenatal_start</th>\n",
       "      <th>births</th>\n",
       "      <th>birth_wt_avg</th>\n",
       "      <th>mother_age_avg</th>\n",
       "      <th>gest_age_avg</th>\n",
       "      <th>date</th>\n",
       "      <th>season</th>\n",
       "      <th>region</th>\n",
       "      <th>birth_wt_alert</th>\n",
       "      <th>gest_age_alert</th>\n",
       "      <th>mother_age_range</th>\n",
       "      <th>birth_wt_cat</th>\n",
       "      <th>gest_age_cat</th>\n",
       "    </tr>\n",
       "  </thead>\n",
       "  <tbody>\n",
       "    <tr>\n",
       "      <th>70138</th>\n",
       "      <td>12356</td>\n",
       "      <td>Massachusetts</td>\n",
       "      <td>2021</td>\n",
       "      <td>November</td>\n",
       "      <td>11</td>\n",
       "      <td>associate degree or some college</td>\n",
       "      <td>4</td>\n",
       "      <td>22</td>\n",
       "      <td>4152.5</td>\n",
       "      <td>28.450001</td>\n",
       "      <td>39.5</td>\n",
       "      <td>2021-11-01</td>\n",
       "      <td>Fall</td>\n",
       "      <td>Northeast</td>\n",
       "      <td>HBW</td>\n",
       "      <td>not preterm</td>\n",
       "      <td>28-30</td>\n",
       "      <td>highest</td>\n",
       "      <td>oldest</td>\n",
       "    </tr>\n",
       "  </tbody>\n",
       "</table>\n",
       "</div>"
      ],
      "text/plain": [
       "       index          state  year     month  month_code  \\\n",
       "70138  12356  Massachusetts  2021  November          11   \n",
       "\n",
       "                              mother_ed  prenatal_start  births  birth_wt_avg  \\\n",
       "70138  associate degree or some college               4      22        4152.5   \n",
       "\n",
       "       mother_age_avg  gest_age_avg       date season     region  \\\n",
       "70138       28.450001          39.5 2021-11-01   Fall  Northeast   \n",
       "\n",
       "      birth_wt_alert gest_age_alert mother_age_range birth_wt_cat gest_age_cat  \n",
       "70138            HBW    not preterm            28-30      highest       oldest  "
      ]
     },
     "execution_count": 19,
     "metadata": {},
     "output_type": "execute_result"
    }
   ],
   "source": [
    "df_birthwt = df[df['birth_wt_avg']>4000]\n",
    "df_birthwt"
   ]
  },
  {
   "cell_type": "code",
   "execution_count": 20,
   "id": "62307df9",
   "metadata": {},
   "outputs": [
    {
     "data": {
      "text/plain": [
       "4152.5    1\n",
       "Name: birth_wt_avg, dtype: int64"
      ]
     },
     "execution_count": 20,
     "metadata": {},
     "output_type": "execute_result"
    }
   ],
   "source": [
    "df_birthwt[\"birth_wt_avg\"].value_counts(dropna = False)"
   ]
  },
  {
   "cell_type": "code",
   "execution_count": 21,
   "id": "eff61c16",
   "metadata": {},
   "outputs": [
    {
     "data": {
      "text/plain": [
       "3219.15185546875"
      ]
     },
     "execution_count": 21,
     "metadata": {},
     "output_type": "execute_result"
    }
   ],
   "source": [
    "df['birth_wt_avg'].mean() # Check the mean"
   ]
  },
  {
   "cell_type": "code",
   "execution_count": 22,
   "id": "53453ea4",
   "metadata": {},
   "outputs": [
    {
     "data": {
      "text/plain": [
       "3237.469970703125"
      ]
     },
     "execution_count": 22,
     "metadata": {},
     "output_type": "execute_result"
    }
   ],
   "source": [
    "df['birth_wt_avg'].median() # Check the median"
   ]
  },
  {
   "cell_type": "code",
   "execution_count": 23,
   "id": "ec58876c",
   "metadata": {},
   "outputs": [
    {
     "data": {
      "text/plain": [
       "4152.5"
      ]
     },
     "execution_count": 23,
     "metadata": {},
     "output_type": "execute_result"
    }
   ],
   "source": [
    "df['birth_wt_avg'].max() # Check the max"
   ]
  },
  {
   "cell_type": "markdown",
   "id": "f2f7b6a7",
   "metadata": {},
   "source": [
    "#### Averages and maximums are within expected ranges."
   ]
  },
  {
   "cell_type": "markdown",
   "id": "cff6716f",
   "metadata": {},
   "source": [
    "### 4. Exploring data via scatterplot"
   ]
  },
  {
   "cell_type": "code",
   "execution_count": 25,
   "id": "5c92aa98",
   "metadata": {},
   "outputs": [
    {
     "data": {
      "image/png": "[encoded data removed]",
      "text/plain": [
       "<Figure size 640x480 with 1 Axes>"
      ]
     },
     "metadata": {},
     "output_type": "display_data"
    }
   ],
   "source": [
    "corr_age_birthwt = df.plot(x = 'mother_age_avg', y='birth_wt_avg',style='o') \n",
    "plt.title('Relationship Between Mother Age & Birth Weight')  \n",
    "plt.xlabel('Average Mother Age')  \n",
    "plt.ylabel('Average Infant Birth Weight')  \n",
    "plt.show()"
   ]
  },
  {
   "cell_type": "code",
   "execution_count": 26,
   "id": "1c39d081",
   "metadata": {},
   "outputs": [],
   "source": [
    "corr_age_birthwt.figure.savefig(os.path.join(path, '04 Analysis', 'Visualizations', 'corr_age_birthwt_6.4.png'), bbox_inches='tight')"
   ]
  },
  {
   "cell_type": "markdown",
   "id": "aead865c",
   "metadata": {},
   "source": [
    "### 5. Forming a Hypothesis"
   ]
  },
  {
   "cell_type": "markdown",
   "id": "00f9503a",
   "metadata": {},
   "source": [
    "#### If a woman giving birth is older, then she has a higher risk of giving birth to an infant who has a birth weight that is larger for its gestational age than a woman who is younger. Also, if a woman giving birth is younger, then she also has a somewhat greater risk of having a lower birth weight infant than older women, with women in their 30s having the greatest risk delivering infants of low birth weights."
   ]
  },
  {
   "cell_type": "code",
   "execution_count": 28,
   "id": "90b64416",
   "metadata": {},
   "outputs": [],
   "source": [
    "df_sub = df[['state','year','month','prenatal_start','birth_wt_avg','mother_age_avg','date']]"
   ]
  },
  {
   "cell_type": "code",
   "execution_count": 29,
   "id": "58d84b26",
   "metadata": {},
   "outputs": [
    {
     "data": {
      "text/html": [
       "<div>\n",
       "<style scoped>\n",
       "    .dataframe tbody tr th:only-of-type {\n",
       "        vertical-align: middle;\n",
       "    }\n",
       "\n",
       "    .dataframe tbody tr th {\n",
       "        vertical-align: top;\n",
       "    }\n",
       "\n",
       "    .dataframe thead th {\n",
       "        text-align: right;\n",
       "    }\n",
       "</style>\n",
       "<table border=\"1\" class=\"dataframe\">\n",
       "  <thead>\n",
       "    <tr style=\"text-align: right;\">\n",
       "      <th></th>\n",
       "      <th>state</th>\n",
       "      <th>year</th>\n",
       "      <th>month</th>\n",
       "      <th>prenatal_start</th>\n",
       "      <th>birth_wt_avg</th>\n",
       "      <th>mother_age_avg</th>\n",
       "      <th>date</th>\n",
       "    </tr>\n",
       "  </thead>\n",
       "  <tbody>\n",
       "    <tr>\n",
       "      <th>0</th>\n",
       "      <td>Alabama</td>\n",
       "      <td>2019</td>\n",
       "      <td>January</td>\n",
       "      <td>10</td>\n",
       "      <td>3223.149902</td>\n",
       "      <td>27.440001</td>\n",
       "      <td>2019-01-01</td>\n",
       "    </tr>\n",
       "    <tr>\n",
       "      <th>1</th>\n",
       "      <td>Alabama</td>\n",
       "      <td>2019</td>\n",
       "      <td>January</td>\n",
       "      <td>2</td>\n",
       "      <td>3482.770020</td>\n",
       "      <td>29.930000</td>\n",
       "      <td>2019-01-01</td>\n",
       "    </tr>\n",
       "    <tr>\n",
       "      <th>2</th>\n",
       "      <td>Alabama</td>\n",
       "      <td>2019</td>\n",
       "      <td>January</td>\n",
       "      <td>3</td>\n",
       "      <td>3251.959961</td>\n",
       "      <td>30.760000</td>\n",
       "      <td>2019-01-01</td>\n",
       "    </tr>\n",
       "    <tr>\n",
       "      <th>3</th>\n",
       "      <td>Alabama</td>\n",
       "      <td>2019</td>\n",
       "      <td>January</td>\n",
       "      <td>4</td>\n",
       "      <td>3120.399902</td>\n",
       "      <td>28.639999</td>\n",
       "      <td>2019-01-01</td>\n",
       "    </tr>\n",
       "    <tr>\n",
       "      <th>4</th>\n",
       "      <td>Alabama</td>\n",
       "      <td>2019</td>\n",
       "      <td>January</td>\n",
       "      <td>5</td>\n",
       "      <td>2938.080078</td>\n",
       "      <td>27.920000</td>\n",
       "      <td>2019-01-01</td>\n",
       "    </tr>\n",
       "  </tbody>\n",
       "</table>\n",
       "</div>"
      ],
      "text/plain": [
       "     state  year    month  prenatal_start  birth_wt_avg  mother_age_avg  \\\n",
       "0  Alabama  2019  January              10   3223.149902       27.440001   \n",
       "1  Alabama  2019  January               2   3482.770020       29.930000   \n",
       "2  Alabama  2019  January               3   3251.959961       30.760000   \n",
       "3  Alabama  2019  January               4   3120.399902       28.639999   \n",
       "4  Alabama  2019  January               5   2938.080078       27.920000   \n",
       "\n",
       "        date  \n",
       "0 2019-01-01  \n",
       "1 2019-01-01  \n",
       "2 2019-01-01  \n",
       "3 2019-01-01  \n",
       "4 2019-01-01  "
      ]
     },
     "execution_count": 29,
     "metadata": {},
     "output_type": "execute_result"
    }
   ],
   "source": [
    "df_sub.head()"
   ]
  },
  {
   "cell_type": "markdown",
   "id": "aacc33b3",
   "metadata": {},
   "source": [
    "### 6. Reshaping the X and y variables into NumPy arrays"
   ]
  },
  {
   "cell_type": "code",
   "execution_count": 30,
   "id": "36d664e9",
   "metadata": {},
   "outputs": [],
   "source": [
    "# The scikit-learn library is programmed to take NumPy arrays. Reshape the variables into NumPy arrays and put them \n",
    "# into separate objects.\n",
    "\n",
    "X = df_sub['mother_age_avg'].values.reshape(-1,1)\n",
    "y = df_sub['birth_wt_avg'].values.reshape(-1,1)"
   ]
  },
  {
   "cell_type": "code",
   "execution_count": 31,
   "id": "a6614f17",
   "metadata": {},
   "outputs": [
    {
     "data": {
      "text/plain": [
       "array([[27.44],\n",
       "       [29.93],\n",
       "       [30.76],\n",
       "       ...,\n",
       "       [34.73],\n",
       "       [32.68],\n",
       "       [33.33]], dtype=float32)"
      ]
     },
     "execution_count": 31,
     "metadata": {},
     "output_type": "execute_result"
    }
   ],
   "source": [
    "X"
   ]
  },
  {
   "cell_type": "code",
   "execution_count": 32,
   "id": "3073aeaf",
   "metadata": {},
   "outputs": [
    {
     "data": {
      "text/plain": [
       "array([[3223.15],\n",
       "       [3482.77],\n",
       "       [3251.96],\n",
       "       ...,\n",
       "       [3488.64],\n",
       "       [3173.05],\n",
       "       [3091.07]], dtype=float32)"
      ]
     },
     "execution_count": 32,
     "metadata": {},
     "output_type": "execute_result"
    }
   ],
   "source": [
    "y"
   ]
  },
  {
   "cell_type": "markdown",
   "id": "9efa27cf",
   "metadata": {},
   "source": [
    "### 7. Splitting the data into training and test sets"
   ]
  },
  {
   "cell_type": "code",
   "execution_count": 33,
   "id": "fd469a1f",
   "metadata": {},
   "outputs": [],
   "source": [
    "X_train, X_test, y_train, y_test = train_test_split(X, y, test_size=0.3, random_state=0)"
   ]
  },
  {
   "cell_type": "markdown",
   "id": "11e92903",
   "metadata": {},
   "source": [
    "### 8. Run a linear regression on the data\n"
   ]
  },
  {
   "cell_type": "code",
   "execution_count": 34,
   "id": "8d84663f",
   "metadata": {},
   "outputs": [],
   "source": [
    "# Create a regression object.\n",
    "\n",
    "regression = LinearRegression()  # This is the regression object, which will be fit onto the training set."
   ]
  },
  {
   "cell_type": "code",
   "execution_count": 35,
   "id": "1dc67897",
   "metadata": {},
   "outputs": [
    {
     "data": {
      "text/plain": [
       "LinearRegression()"
      ]
     },
     "execution_count": 35,
     "metadata": {},
     "output_type": "execute_result"
    }
   ],
   "source": [
    "# Fit the regression object onto the training set.\n",
    "\n",
    "regression.fit(X_train, y_train)"
   ]
  },
  {
   "cell_type": "code",
   "execution_count": 36,
   "id": "6a145188",
   "metadata": {},
   "outputs": [],
   "source": [
    "# Create a prediction for y on the test set.\n",
    "\n",
    "y_predicted = regression.predict(X_test)"
   ]
  },
  {
   "cell_type": "markdown",
   "id": "848adb88",
   "metadata": {},
   "source": [
    "### 9. Create a scatterplot that shows regression on the test set"
   ]
  },
  {
   "cell_type": "code",
   "execution_count": 45,
   "id": "9fea5064",
   "metadata": {},
   "outputs": [
    {
     "data": {
      "image/png": "[encoded data removed]",
      "text/plain": [
       "<Figure size 640x480 with 1 Axes>"
      ]
     },
     "metadata": {},
     "output_type": "display_data"
    }
   ],
   "source": [
    "plot_test = plt\n",
    "plot_test.scatter(X_test, y_test, color='gray', s = 15)\n",
    "plot_test.plot(X_test, y_predicted, color='red', linewidth =3)\n",
    "plot_test.title('Average Mother Age vs Average Infant Birth Weight (Test set)')\n",
    "plot_test.xlabel('Average Mother Age')\n",
    "plot_test.ylabel('Average Birth Weight')\n",
    "plot_test.show()\n",
    "\n",
    "corr_age_birthwt = df.plot(x = 'mother_age_avg', y='birth_wt_avg',style='o') \n",
    "plt.title('Relationship Between Mother Age & Birth Weight')  \n",
    "plt.xlabel('Average Mother Age')  \n",
    "plt.ylabel('Average Infant Birth Weight')  \n",
    "plt.show()"
   ]
  },
  {
   "cell_type": "markdown",
   "id": "0ca3bab5",
   "metadata": {},
   "source": [
    "### 10. Intrepretation of how regression line fits data"
   ]
  },
  {
   "cell_type": "markdown",
   "id": "79495f23",
   "metadata": {},
   "source": [
    "#### There does appear to be some relationship between mother age and infant birth weight, but there is some variation. If the relationship is linear, further steps will indicate if this is the case."
   ]
  },
  {
   "cell_type": "markdown",
   "id": "1b1c0e37",
   "metadata": {},
   "source": [
    "### 11. Check model performance statistics"
   ]
  },
  {
   "cell_type": "code",
   "execution_count": 38,
   "id": "20bfd90b",
   "metadata": {},
   "outputs": [],
   "source": [
    "# Create objects that contain the model summary statistics.\n",
    "\n",
    "rmse = mean_squared_error(y_test, y_predicted) # This is the mean squared error\n",
    "r2 = r2_score(y_test, y_predicted) # This is the R2 score. "
   ]
  },
  {
   "cell_type": "code",
   "execution_count": 39,
   "id": "b5335fef",
   "metadata": {},
   "outputs": [
    {
     "name": "stdout",
     "output_type": "stream",
     "text": [
      "Slope: [[17.380774]]\n",
      "Mean squared error:  24024.828\n",
      "R2 score:  0.09906269062627682\n"
     ]
    }
   ],
   "source": [
    "# Print the model summary statistics. This is where you evaluate the performance of the model.\n",
    "\n",
    "print('Slope:' ,regression.coef_)\n",
    "print('Mean squared error: ', rmse)\n",
    "print('R2 score: ', r2)"
   ]
  },
  {
   "cell_type": "markdown",
   "id": "738e7bd2",
   "metadata": {},
   "source": [
    "### 12. Compare the predicted y values with the actual y values"
   ]
  },
  {
   "cell_type": "code",
   "execution_count": 40,
   "id": "fa822bf9",
   "metadata": {},
   "outputs": [
    {
     "data": {
      "text/html": [
       "<div>\n",
       "<style scoped>\n",
       "    .dataframe tbody tr th:only-of-type {\n",
       "        vertical-align: middle;\n",
       "    }\n",
       "\n",
       "    .dataframe tbody tr th {\n",
       "        vertical-align: top;\n",
       "    }\n",
       "\n",
       "    .dataframe thead th {\n",
       "        text-align: right;\n",
       "    }\n",
       "</style>\n",
       "<table border=\"1\" class=\"dataframe\">\n",
       "  <thead>\n",
       "    <tr style=\"text-align: right;\">\n",
       "      <th></th>\n",
       "      <th>Actual</th>\n",
       "      <th>Predicted</th>\n",
       "    </tr>\n",
       "  </thead>\n",
       "  <tbody>\n",
       "    <tr>\n",
       "      <th>0</th>\n",
       "      <td>2899.040039</td>\n",
       "      <td>3199.752686</td>\n",
       "    </tr>\n",
       "    <tr>\n",
       "      <th>1</th>\n",
       "      <td>3288.760010</td>\n",
       "      <td>3307.165771</td>\n",
       "    </tr>\n",
       "    <tr>\n",
       "      <th>2</th>\n",
       "      <td>3333.929932</td>\n",
       "      <td>3228.257080</td>\n",
       "    </tr>\n",
       "    <tr>\n",
       "      <th>3</th>\n",
       "      <td>3324.500000</td>\n",
       "      <td>3286.482666</td>\n",
       "    </tr>\n",
       "    <tr>\n",
       "      <th>4</th>\n",
       "      <td>3251.340088</td>\n",
       "      <td>3261.454346</td>\n",
       "    </tr>\n",
       "    <tr>\n",
       "      <th>5</th>\n",
       "      <td>3164.550049</td>\n",
       "      <td>3250.678223</td>\n",
       "    </tr>\n",
       "    <tr>\n",
       "      <th>6</th>\n",
       "      <td>3449.330078</td>\n",
       "      <td>3222.000000</td>\n",
       "    </tr>\n",
       "    <tr>\n",
       "      <th>7</th>\n",
       "      <td>2793.050049</td>\n",
       "      <td>3209.833496</td>\n",
       "    </tr>\n",
       "    <tr>\n",
       "      <th>8</th>\n",
       "      <td>3254.729980</td>\n",
       "      <td>3223.216797</td>\n",
       "    </tr>\n",
       "    <tr>\n",
       "      <th>9</th>\n",
       "      <td>3127.080078</td>\n",
       "      <td>3250.678223</td>\n",
       "    </tr>\n",
       "    <tr>\n",
       "      <th>10</th>\n",
       "      <td>3397.879883</td>\n",
       "      <td>3277.618652</td>\n",
       "    </tr>\n",
       "    <tr>\n",
       "      <th>11</th>\n",
       "      <td>3172.969971</td>\n",
       "      <td>3193.321777</td>\n",
       "    </tr>\n",
       "    <tr>\n",
       "      <th>12</th>\n",
       "      <td>3156.030029</td>\n",
       "      <td>3171.421875</td>\n",
       "    </tr>\n",
       "    <tr>\n",
       "      <th>13</th>\n",
       "      <td>3301.659912</td>\n",
       "      <td>3218.002441</td>\n",
       "    </tr>\n",
       "    <tr>\n",
       "      <th>14</th>\n",
       "      <td>2721.449951</td>\n",
       "      <td>3193.321777</td>\n",
       "    </tr>\n",
       "    <tr>\n",
       "      <th>15</th>\n",
       "      <td>3354.570068</td>\n",
       "      <td>3247.723633</td>\n",
       "    </tr>\n",
       "    <tr>\n",
       "      <th>16</th>\n",
       "      <td>3352.500000</td>\n",
       "      <td>3272.404297</td>\n",
       "    </tr>\n",
       "    <tr>\n",
       "      <th>17</th>\n",
       "      <td>3285.330078</td>\n",
       "      <td>3197.145508</td>\n",
       "    </tr>\n",
       "    <tr>\n",
       "      <th>18</th>\n",
       "      <td>3329.070068</td>\n",
       "      <td>3235.209473</td>\n",
       "    </tr>\n",
       "    <tr>\n",
       "      <th>19</th>\n",
       "      <td>3299.320068</td>\n",
       "      <td>3254.154541</td>\n",
       "    </tr>\n",
       "    <tr>\n",
       "      <th>20</th>\n",
       "      <td>3382.320068</td>\n",
       "      <td>3189.671875</td>\n",
       "    </tr>\n",
       "    <tr>\n",
       "      <th>21</th>\n",
       "      <td>3175.610107</td>\n",
       "      <td>3190.888428</td>\n",
       "    </tr>\n",
       "    <tr>\n",
       "      <th>22</th>\n",
       "      <td>3430.570068</td>\n",
       "      <td>3176.288574</td>\n",
       "    </tr>\n",
       "    <tr>\n",
       "      <th>23</th>\n",
       "      <td>3158.040039</td>\n",
       "      <td>3275.880371</td>\n",
       "    </tr>\n",
       "    <tr>\n",
       "      <th>24</th>\n",
       "      <td>3179.320068</td>\n",
       "      <td>3187.759766</td>\n",
       "    </tr>\n",
       "    <tr>\n",
       "      <th>25</th>\n",
       "      <td>3143.750000</td>\n",
       "      <td>3118.584473</td>\n",
       "    </tr>\n",
       "    <tr>\n",
       "      <th>26</th>\n",
       "      <td>3199.080078</td>\n",
       "      <td>3283.528076</td>\n",
       "    </tr>\n",
       "    <tr>\n",
       "      <th>27</th>\n",
       "      <td>3365.580078</td>\n",
       "      <td>3174.724365</td>\n",
       "    </tr>\n",
       "    <tr>\n",
       "      <th>28</th>\n",
       "      <td>3517.780029</td>\n",
       "      <td>3288.394531</td>\n",
       "    </tr>\n",
       "    <tr>\n",
       "      <th>29</th>\n",
       "      <td>3383.870117</td>\n",
       "      <td>3288.916016</td>\n",
       "    </tr>\n",
       "    <tr>\n",
       "      <th>30</th>\n",
       "      <td>2900.909912</td>\n",
       "      <td>3253.980713</td>\n",
       "    </tr>\n",
       "    <tr>\n",
       "      <th>31</th>\n",
       "      <td>2962.229980</td>\n",
       "      <td>3211.050049</td>\n",
       "    </tr>\n",
       "    <tr>\n",
       "      <th>32</th>\n",
       "      <td>3237.679932</td>\n",
       "      <td>3189.498047</td>\n",
       "    </tr>\n",
       "    <tr>\n",
       "      <th>33</th>\n",
       "      <td>3255.409912</td>\n",
       "      <td>3153.345947</td>\n",
       "    </tr>\n",
       "    <tr>\n",
       "      <th>34</th>\n",
       "      <td>3322.449951</td>\n",
       "      <td>3230.864258</td>\n",
       "    </tr>\n",
       "    <tr>\n",
       "      <th>35</th>\n",
       "      <td>3243.949951</td>\n",
       "      <td>3196.276367</td>\n",
       "    </tr>\n",
       "    <tr>\n",
       "      <th>36</th>\n",
       "      <td>3490.679932</td>\n",
       "      <td>3220.435791</td>\n",
       "    </tr>\n",
       "    <tr>\n",
       "      <th>37</th>\n",
       "      <td>3310.270020</td>\n",
       "      <td>3255.197266</td>\n",
       "    </tr>\n",
       "    <tr>\n",
       "      <th>38</th>\n",
       "      <td>3219.540039</td>\n",
       "      <td>3226.345215</td>\n",
       "    </tr>\n",
       "    <tr>\n",
       "      <th>39</th>\n",
       "      <td>3139.030029</td>\n",
       "      <td>3225.302246</td>\n",
       "    </tr>\n",
       "    <tr>\n",
       "      <th>40</th>\n",
       "      <td>3158.780029</td>\n",
       "      <td>3146.741211</td>\n",
       "    </tr>\n",
       "    <tr>\n",
       "      <th>41</th>\n",
       "      <td>3312.810059</td>\n",
       "      <td>3273.447266</td>\n",
       "    </tr>\n",
       "    <tr>\n",
       "      <th>42</th>\n",
       "      <td>3260.719971</td>\n",
       "      <td>3302.646973</td>\n",
       "    </tr>\n",
       "    <tr>\n",
       "      <th>43</th>\n",
       "      <td>3366.459961</td>\n",
       "      <td>3259.890137</td>\n",
       "    </tr>\n",
       "    <tr>\n",
       "      <th>44</th>\n",
       "      <td>2946.100098</td>\n",
       "      <td>3157.691162</td>\n",
       "    </tr>\n",
       "    <tr>\n",
       "      <th>45</th>\n",
       "      <td>3230.219971</td>\n",
       "      <td>3184.283691</td>\n",
       "    </tr>\n",
       "    <tr>\n",
       "      <th>46</th>\n",
       "      <td>3258.120117</td>\n",
       "      <td>3199.057373</td>\n",
       "    </tr>\n",
       "    <tr>\n",
       "      <th>47</th>\n",
       "      <td>3511.000000</td>\n",
       "      <td>3329.760742</td>\n",
       "    </tr>\n",
       "    <tr>\n",
       "      <th>48</th>\n",
       "      <td>3346.689941</td>\n",
       "      <td>3242.856934</td>\n",
       "    </tr>\n",
       "    <tr>\n",
       "      <th>49</th>\n",
       "      <td>3337.239990</td>\n",
       "      <td>3080.520508</td>\n",
       "    </tr>\n",
       "  </tbody>\n",
       "</table>\n",
       "</div>"
      ],
      "text/plain": [
       "         Actual    Predicted\n",
       "0   2899.040039  3199.752686\n",
       "1   3288.760010  3307.165771\n",
       "2   3333.929932  3228.257080\n",
       "3   3324.500000  3286.482666\n",
       "4   3251.340088  3261.454346\n",
       "5   3164.550049  3250.678223\n",
       "6   3449.330078  3222.000000\n",
       "7   2793.050049  3209.833496\n",
       "8   3254.729980  3223.216797\n",
       "9   3127.080078  3250.678223\n",
       "10  3397.879883  3277.618652\n",
       "11  3172.969971  3193.321777\n",
       "12  3156.030029  3171.421875\n",
       "13  3301.659912  3218.002441\n",
       "14  2721.449951  3193.321777\n",
       "15  3354.570068  3247.723633\n",
       "16  3352.500000  3272.404297\n",
       "17  3285.330078  3197.145508\n",
       "18  3329.070068  3235.209473\n",
       "19  3299.320068  3254.154541\n",
       "20  3382.320068  3189.671875\n",
       "21  3175.610107  3190.888428\n",
       "22  3430.570068  3176.288574\n",
       "23  3158.040039  3275.880371\n",
       "24  3179.320068  3187.759766\n",
       "25  3143.750000  3118.584473\n",
       "26  3199.080078  3283.528076\n",
       "27  3365.580078  3174.724365\n",
       "28  3517.780029  3288.394531\n",
       "29  3383.870117  3288.916016\n",
       "30  2900.909912  3253.980713\n",
       "31  2962.229980  3211.050049\n",
       "32  3237.679932  3189.498047\n",
       "33  3255.409912  3153.345947\n",
       "34  3322.449951  3230.864258\n",
       "35  3243.949951  3196.276367\n",
       "36  3490.679932  3220.435791\n",
       "37  3310.270020  3255.197266\n",
       "38  3219.540039  3226.345215\n",
       "39  3139.030029  3225.302246\n",
       "40  3158.780029  3146.741211\n",
       "41  3312.810059  3273.447266\n",
       "42  3260.719971  3302.646973\n",
       "43  3366.459961  3259.890137\n",
       "44  2946.100098  3157.691162\n",
       "45  3230.219971  3184.283691\n",
       "46  3258.120117  3199.057373\n",
       "47  3511.000000  3329.760742\n",
       "48  3346.689941  3242.856934\n",
       "49  3337.239990  3080.520508"
      ]
     },
     "execution_count": 40,
     "metadata": {},
     "output_type": "execute_result"
    }
   ],
   "source": [
    "# Create a dataframe comparing the actual and predicted values of y.\n",
    "\n",
    "data = pd.DataFrame({'Actual': y_test.flatten(), 'Predicted': y_predicted.flatten()})\n",
    "data.head(50)"
   ]
  },
  {
   "cell_type": "markdown",
   "id": "6f2eee78",
   "metadata": {},
   "source": [
    "#### Compare how the regression fits the training set"
   ]
  },
  {
   "cell_type": "code",
   "execution_count": 41,
   "id": "8211074a",
   "metadata": {},
   "outputs": [],
   "source": [
    "# This is predicting X_train.\n",
    "\n",
    "y_predicted_train = regression.predict(X_train) "
   ]
  },
  {
   "cell_type": "code",
   "execution_count": 42,
   "id": "8b44c280",
   "metadata": {},
   "outputs": [],
   "source": [
    "rmse = mean_squared_error(y_train, y_predicted_train)\n",
    "r2 = r2_score(y_train, y_predicted_train)"
   ]
  },
  {
   "cell_type": "code",
   "execution_count": 43,
   "id": "9ffe0a97",
   "metadata": {},
   "outputs": [
    {
     "name": "stdout",
     "output_type": "stream",
     "text": [
      "Slope: [[17.380774]]\n",
      "Mean squared error:  24422.617\n",
      "R2 score:  0.09781204382287922\n"
     ]
    }
   ],
   "source": [
    "print('Slope:' ,regression.coef_)\n",
    "print('Mean squared error: ', rmse)\n",
    "print('R2 score: ', r2)"
   ]
  },
  {
   "cell_type": "code",
   "execution_count": 46,
   "id": "123cf2ce",
   "metadata": {},
   "outputs": [
    {
     "data": {
      "image/png": "[encoded data removed]",
      "text/plain": [
       "<Figure size 640x480 with 1 Axes>"
      ]
     },
     "metadata": {},
     "output_type": "display_data"
    }
   ],
   "source": [
    "# Visualizing the training set results.\n",
    "\n",
    "plot_test_2 = plt\n",
    "plot_test_2.scatter(X_train, y_train, color='green', s = 15)\n",
    "plot_test_2.plot(X_train, y_predicted_train, color='red', linewidth =3)\n",
    "plot_test_2.title('Average Mother Age vs Average Infant Birth Weight (Test set)')\n",
    "plot_test_2.xlabel('Average Mother Age')\n",
    "plot_test_2.ylabel('Average Birth Weight')\n",
    "plot_test_2.show()"
   ]
  },
  {
   "cell_type": "markdown",
   "id": "a30833c5",
   "metadata": {},
   "source": [
    "### 13. Thoughts on how well model performed on test set"
   ]
  },
  {
   "cell_type": "markdown",
   "id": "42cebb8c",
   "metadata": {},
   "source": [
    "#### There appears to be some relationship betwen mother age and infant birth weight; however, the relationship does not appear to be linear. Linear regression is likely not the ideal model needed for prediction."
   ]
  },
  {
   "cell_type": "code",
   "execution_count": 52,
   "id": "7ffb6455",
   "metadata": {},
   "outputs": [
    {
     "data": {
      "text/plain": [
       "<Figure size 640x480 with 0 Axes>"
      ]
     },
     "metadata": {},
     "output_type": "display_data"
    }
   ],
   "source": [
    "# These FAILED. Redo with instruction.\n",
    "\n",
    "# Exporting liner regression image files:\n",
    "\n",
    "#plt.figure()\n",
    "#tree.plot_tree(clf,filled=True)  \n",
    "plot_test.savefig(os.path.join(path, '04 Analysis', 'Visualizations', 'regression_test.eps'), format='eps',bbox_inches = \"tight\")"
   ]
  },
  {
   "cell_type": "code",
   "execution_count": 53,
   "id": "dd01f88a",
   "metadata": {},
   "outputs": [
    {
     "data": {
      "text/plain": [
       "<Figure size 640x480 with 0 Axes>"
      ]
     },
     "metadata": {},
     "output_type": "display_data"
    }
   ],
   "source": [
    "plot_test_2.savefig(os.path.join(path, '04 Analysis', 'Visualizations', 'regression_training.eps'), format='eps',bbox_inches = \"tight\")"
   ]
  }
 ],
 "metadata": {
  "kernelspec": {
   "display_name": "Python 3 (ipykernel)",
   "language": "python",
   "name": "python3"
  },
  "language_info": {
   "codemirror_mode": {
    "name": "ipython",
    "version": 3
   },
   "file_extension": ".py",
   "mimetype": "text/x-python",
   "name": "python",
   "nbconvert_exporter": "python",
   "pygments_lexer": "ipython3",
   "version": "3.9.13"
  }
 },
 "nbformat": 4,
 "nbformat_minor": 5
}
